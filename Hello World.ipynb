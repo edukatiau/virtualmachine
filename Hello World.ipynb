{
  "cells": [
    {
      "metadata": {
        "trusted": true
      },
      "cell_type": "code",
      "source": "name = 'Eduardo'\nage = 17\ncountry = 'Brasil'",
      "execution_count": 31,
      "outputs": []
    },
    {
      "metadata": {
        "trusted": true
      },
      "cell_type": "code",
      "source": "print('Olá, me chamo ' + name + '.')",
      "execution_count": 34,
      "outputs": [
        {
          "output_type": "stream",
          "text": "Olá, me chamo Eduardo.\n",
          "name": "stdout"
        }
      ]
    },
    {
      "metadata": {
        "trusted": true
      },
      "cell_type": "code",
      "source": "print('Eu tenho ' + str(age) + ' anos.')",
      "execution_count": 38,
      "outputs": [
        {
          "output_type": "stream",
          "text": "Eu tenho 17 anos.\n",
          "name": "stdout"
        }
      ]
    },
    {
      "metadata": {
        "trusted": true
      },
      "cell_type": "code",
      "source": "print('E eu moro no ' + country + '.')",
      "execution_count": 35,
      "outputs": [
        {
          "output_type": "stream",
          "text": "E eu moro no Brasil.\n",
          "name": "stdout"
        }
      ]
    },
    {
      "metadata": {
        "trusted": true,
        "scrolled": true
      },
      "cell_type": "code",
      "source": "print('Oi ' + name)\nprint('Como você está?')",
      "execution_count": 41,
      "outputs": [
        {
          "output_type": "stream",
          "text": "Oi Eduardo\nComo você está?\n",
          "name": "stdout"
        }
      ]
    },
    {
      "metadata": {
        "trusted": true
      },
      "cell_type": "code",
      "source": "print('Olá, me chamo ' + name + '.')\nprint('Eu tenho ' + str(age) + ' anos.')\nprint('E eu moro no ' + country + '.')",
      "execution_count": 42,
      "outputs": [
        {
          "output_type": "stream",
          "text": "Olá, me chamo Eduardo.\nEu tenho 17 anos.\nE eu moro no Brasil.\n",
          "name": "stdout"
        }
      ]
    },
    {
      "metadata": {
        "trusted": true,
        "scrolled": true
      },
      "cell_type": "code",
      "source": "name = raw_input('Olá! Qual seu nome? ')\nprint('Seja bem-vindo, ' + name)",
      "execution_count": 9,
      "outputs": [
        {
          "output_type": "stream",
          "name": "stdout",
          "text": "T2zDoSEgUXVhbCBzZXUgbm9tZT8g\ndu\nSeja bem-vindo, du\n"
        }
      ]
    },
    {
      "metadata": {
        "trusted": true
      },
      "cell_type": "code",
      "source": "",
      "execution_count": null,
      "outputs": []
    }
  ],
  "metadata": {
    "kernelspec": {
      "name": "python2",
      "display_name": "Python 2",
      "language": "python"
    },
    "language_info": {
      "mimetype": "text/x-python",
      "nbconvert_exporter": "python",
      "name": "python",
      "pygments_lexer": "ipython2",
      "version": "2.7.15",
      "file_extension": ".py",
      "codemirror_mode": {
        "version": 2,
        "name": "ipython"
      }
    }
  },
  "nbformat": 4,
  "nbformat_minor": 1
}